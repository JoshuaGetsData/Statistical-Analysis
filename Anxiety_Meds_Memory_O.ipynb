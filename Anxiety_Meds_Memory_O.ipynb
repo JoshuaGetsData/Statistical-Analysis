{
 "cells": [
  {
   "cell_type": "markdown",
   "metadata": {},
   "source": [
    "# **Anxiety Medicine Effect on Memory**"
   ]
  },
  {
   "cell_type": "markdown",
   "metadata": {},
   "source": [
    "## Table of Contents\n",
    "\n",
    "1. **Introduction**\n",
    "2. **Set Up Data Analysis Environment**\n",
    "3. **View Data Layout** \n",
    "    <br> 3.1 Relabel \n",
    "4. **Exploratory Data Analysis** <br>\n",
    " 4.1 **Difference by Drug: Visual** <br>\n",
    "     4.1.A Statistical Significance <br>\n",
    " 4.1.B Statistical Significance Results <br>\n",
    " 4.2 **Difference by Drug and Dosage** <br>\n",
    "  4.2.A Statistical Significance <br>\n",
    "4.2.B Statistical Significance Results <br>\n",
    " 4.3 **Difference by Drug Dosage and Happy/Sad Prime** <br>\n",
    "     4.3.A Statistical Significance <br>\n",
    "     4.3.B Statistical Significance Results\n",
    "5. **Search for Major Group Discrepencies** <br>\n",
    "   5.1 Discrepency Results\n",
    "6. **Conclusion**\n",
    "\n",
    "\n"
   ]
  },
  {
   "cell_type": "markdown",
   "metadata": {},
   "source": [
    "## 1. Introduction \n",
    "\n",
    "**Context** \n",
    "\n",
    "An independent measures design experiments the effects of anti-anxiety medicine on memory recall on a group of novel Islanders whom mimic real-life humans in response to external factors. Participants were seperated into a different group for each drug between three different dosage levels and two different primes. They were given a memory recall test before taking the drugs and again \n",
    "\n",
    "Participants were also primed with either happy or sad memories 10 minutes before the recall test. \n",
    "\n",
    "There were three drugs of interest used (Known-as) [Dosage: low, medium, high]:\n",
    "\n",
    "A - Alprazolam (Xanax, Long-term) [1mg/3mg/5mg] \n",
    "<br>T - Triazolam (Halcion, Short-term) [.25mg/.5mg/.75mg]\n",
    "<br>S - Sugar Tablet (Placebo) [1tab/2tabs/3tabs]                                   \n",
    "\n",
    "**Main questions of interest:**\n",
    "<br> How does each drug affect memory?\n",
    "<br> Does the dosage level of the drug have an effect?\n",
    "<br> Does either prime have a significant effect?\n",
    "<br> Does the age of participants make a noticable difference on the drugs' effect?\n",
    "\n",
    "**Method:** \n",
    "<br> Clear visualization to perceive noticable differences between variables.\n",
    "<br> One way ANOVA (Analysis of variance) tests for significant difference of post-drug memory recall scores by the drug.\n",
    "<br> Two-Sample t-test to find significant difference between groups.\n",
    " \n",
    "\n",
    "\n",
    "\n"
   ]
  },
  {
   "cell_type": "markdown",
   "metadata": {},
   "source": [
    "## 2. Set Up Data Analysis Environment"
   ]
  },
  {
   "cell_type": "code",
   "execution_count": 3,
   "metadata": {},
   "outputs": [],
   "source": [
    "#import libraries for Data Analysis \n",
    "import numpy as np\n",
    "import pandas as pd\n",
    "import seaborn as sns\n",
    "from scipy import stats\n",
    "%matplotlib inline\n",
    "import matplotlib.pyplot as plt"
   ]
  },
  {
   "cell_type": "code",
   "execution_count": 4,
   "metadata": {},
   "outputs": [
    {
     "data": {
      "text/plain": [
       "Index(['first_name', 'last_name', 'age', 'Happy_Sad_group', 'Dosage', 'Drug',\n",
       "       'Mem_Score_Before', 'Mem_Score_After', 'Diff'],\n",
       "      dtype='object')"
      ]
     },
     "execution_count": 4,
     "metadata": {},
     "output_type": "execute_result"
    }
   ],
   "source": [
    "#import data regarding anti-anxiety\n",
    "df = pd.read_csv(r'C:\\Users\\jdgoe\\OneDrive\\Documents\\Analyses\\Islander_data.csv')\n",
    "#view columns and value types\n",
    "df.columns"
   ]
  },
  {
   "cell_type": "markdown",
   "metadata": {},
   "source": [
    "# 3. View data layout <a name=\"viewdl\"></a>"
   ]
  },
  {
   "cell_type": "code",
   "execution_count": 5,
   "metadata": {},
   "outputs": [
    {
     "data": {
      "text/html": [
       "<div>\n",
       "<style scoped>\n",
       "    .dataframe tbody tr th:only-of-type {\n",
       "        vertical-align: middle;\n",
       "    }\n",
       "\n",
       "    .dataframe tbody tr th {\n",
       "        vertical-align: top;\n",
       "    }\n",
       "\n",
       "    .dataframe thead th {\n",
       "        text-align: right;\n",
       "    }\n",
       "</style>\n",
       "<table border=\"1\" class=\"dataframe\">\n",
       "  <thead>\n",
       "    <tr style=\"text-align: right;\">\n",
       "      <th></th>\n",
       "      <th>first_name</th>\n",
       "      <th>last_name</th>\n",
       "      <th>age</th>\n",
       "      <th>Happy_Sad_group</th>\n",
       "      <th>Dosage</th>\n",
       "      <th>Drug</th>\n",
       "      <th>Mem_Score_Before</th>\n",
       "      <th>Mem_Score_After</th>\n",
       "      <th>Diff</th>\n",
       "    </tr>\n",
       "  </thead>\n",
       "  <tbody>\n",
       "    <tr>\n",
       "      <th>0</th>\n",
       "      <td>Bastian</td>\n",
       "      <td>Carrasco</td>\n",
       "      <td>25</td>\n",
       "      <td>H</td>\n",
       "      <td>1</td>\n",
       "      <td>A</td>\n",
       "      <td>63.5</td>\n",
       "      <td>61.2</td>\n",
       "      <td>-2.3</td>\n",
       "    </tr>\n",
       "    <tr>\n",
       "      <th>1</th>\n",
       "      <td>Evan</td>\n",
       "      <td>Carrasco</td>\n",
       "      <td>52</td>\n",
       "      <td>S</td>\n",
       "      <td>1</td>\n",
       "      <td>A</td>\n",
       "      <td>41.6</td>\n",
       "      <td>40.7</td>\n",
       "      <td>-0.9</td>\n",
       "    </tr>\n",
       "    <tr>\n",
       "      <th>2</th>\n",
       "      <td>Florencia</td>\n",
       "      <td>Carrasco</td>\n",
       "      <td>29</td>\n",
       "      <td>H</td>\n",
       "      <td>1</td>\n",
       "      <td>A</td>\n",
       "      <td>59.7</td>\n",
       "      <td>55.1</td>\n",
       "      <td>-4.6</td>\n",
       "    </tr>\n",
       "    <tr>\n",
       "      <th>3</th>\n",
       "      <td>Holly</td>\n",
       "      <td>Carrasco</td>\n",
       "      <td>50</td>\n",
       "      <td>S</td>\n",
       "      <td>1</td>\n",
       "      <td>A</td>\n",
       "      <td>51.7</td>\n",
       "      <td>51.2</td>\n",
       "      <td>-0.5</td>\n",
       "    </tr>\n",
       "    <tr>\n",
       "      <th>4</th>\n",
       "      <td>Justin</td>\n",
       "      <td>Carrasco</td>\n",
       "      <td>52</td>\n",
       "      <td>H</td>\n",
       "      <td>1</td>\n",
       "      <td>A</td>\n",
       "      <td>47.0</td>\n",
       "      <td>47.1</td>\n",
       "      <td>0.1</td>\n",
       "    </tr>\n",
       "  </tbody>\n",
       "</table>\n",
       "</div>"
      ],
      "text/plain": [
       "  first_name last_name  age Happy_Sad_group  Dosage Drug  Mem_Score_Before  \\\n",
       "0    Bastian  Carrasco   25               H       1    A              63.5   \n",
       "1       Evan  Carrasco   52               S       1    A              41.6   \n",
       "2  Florencia  Carrasco   29               H       1    A              59.7   \n",
       "3      Holly  Carrasco   50               S       1    A              51.7   \n",
       "4     Justin  Carrasco   52               H       1    A              47.0   \n",
       "\n",
       "   Mem_Score_After  Diff  \n",
       "0             61.2  -2.3  \n",
       "1             40.7  -0.9  \n",
       "2             55.1  -4.6  \n",
       "3             51.2  -0.5  \n",
       "4             47.1   0.1  "
      ]
     },
     "execution_count": 5,
     "metadata": {},
     "output_type": "execute_result"
    }
   ],
   "source": [
    "#view head of data frame for idea of the layout\n",
    "df.head()"
   ]
  },
  {
   "cell_type": "code",
   "execution_count": 6,
   "metadata": {},
   "outputs": [
    {
     "data": {
      "text/plain": [
       "first_name           object\n",
       "last_name            object\n",
       "age                   int64\n",
       "Happy_Sad_group      object\n",
       "Dosage                int64\n",
       "Drug                 object\n",
       "Mem_Score_Before    float64\n",
       "Mem_Score_After     float64\n",
       "Diff                float64\n",
       "dtype: object"
      ]
     },
     "execution_count": 6,
     "metadata": {},
     "output_type": "execute_result"
    }
   ],
   "source": [
    "#evaluate data types for any wrong data types\n",
    "df.dtypes"
   ]
  },
  {
   "cell_type": "markdown",
   "metadata": {},
   "source": [
    "### 3.1 Relabel"
   ]
  },
  {
   "cell_type": "code",
   "execution_count": 7,
   "metadata": {},
   "outputs": [
    {
     "data": {
      "text/html": [
       "<div>\n",
       "<style scoped>\n",
       "    .dataframe tbody tr th:only-of-type {\n",
       "        vertical-align: middle;\n",
       "    }\n",
       "\n",
       "    .dataframe tbody tr th {\n",
       "        vertical-align: top;\n",
       "    }\n",
       "\n",
       "    .dataframe thead th {\n",
       "        text-align: right;\n",
       "    }\n",
       "</style>\n",
       "<table border=\"1\" class=\"dataframe\">\n",
       "  <thead>\n",
       "    <tr style=\"text-align: right;\">\n",
       "      <th></th>\n",
       "      <th>Dosage</th>\n",
       "    </tr>\n",
       "  </thead>\n",
       "  <tbody>\n",
       "    <tr>\n",
       "      <th>1</th>\n",
       "      <td>67</td>\n",
       "    </tr>\n",
       "    <tr>\n",
       "      <th>2</th>\n",
       "      <td>66</td>\n",
       "    </tr>\n",
       "    <tr>\n",
       "      <th>3</th>\n",
       "      <td>65</td>\n",
       "    </tr>\n",
       "  </tbody>\n",
       "</table>\n",
       "</div>"
      ],
      "text/plain": [
       "   Dosage\n",
       "1      67\n",
       "2      66\n",
       "3      65"
      ]
     },
     "execution_count": 7,
     "metadata": {},
     "output_type": "execute_result"
    }
   ],
   "source": [
    "df['Dosage'].value_counts().to_frame() #see if IV is distributed properly"
   ]
  },
  {
   "cell_type": "code",
   "execution_count": 23,
   "metadata": {},
   "outputs": [
    {
     "data": {
      "text/plain": [
       "low       67\n",
       "medium    66\n",
       "high      65\n",
       "Name: Dosage, dtype: int64"
      ]
     },
     "execution_count": 23,
     "metadata": {},
     "output_type": "execute_result"
    }
   ],
   "source": [
    "# relabel dosage with words\n",
    "df['Dosage'] = df.Dosage.replace({1: \"low\", 2: \"medium\", 3: \"high\"})\n",
    "df.Dosage.value_counts()"
   ]
  },
  {
   "cell_type": "code",
   "execution_count": 8,
   "metadata": {},
   "outputs": [],
   "source": [
    "df[\"Drug\"] = df.Drug.replace({'A': \"Alprazolam\", 'S': \"Placebo\", 'T': \"Triazolam\"}) #relabel drug initials with name"
   ]
  },
  {
   "cell_type": "markdown",
   "metadata": {},
   "source": [
    "## 4. Exploratory Data Analysis"
   ]
  },
  {
   "cell_type": "code",
   "execution_count": 9,
   "metadata": {},
   "outputs": [],
   "source": [
    "# create column with the difference of the score after relative to before\n",
    "df['Score_Diff'] = df['Mem_Score_After'] - df['Mem_Score_Before']"
   ]
  },
  {
   "cell_type": "markdown",
   "metadata": {},
   "source": [
    "### 4.1 Difference by Drug Visual"
   ]
  },
  {
   "cell_type": "code",
   "execution_count": 10,
   "metadata": {},
   "outputs": [
    {
     "data": {
      "text/plain": [
       "[Text(0.5, 1.0, 'Score Differential Post-Dosage Between Drugs'),\n",
       " Text(0.5, 0, 'Drug'),\n",
       " Text(0, 0.5, 'Score Differential')]"
      ]
     },
     "execution_count": 10,
     "metadata": {},
     "output_type": "execute_result"
    },
    {
     "data": {
      "image/png": "[encoded data removed]",
      "text/plain": [
       "<Figure size 432x288 with 1 Axes>"
      ]
     },
     "metadata": {
      "needs_background": "light"
     },
     "output_type": "display_data"
    }
   ],
   "source": [
    "#evaluate difference by drug\n",
    "box_plot=sns.boxplot(x=\"Drug\", y=\"Score_Diff\", data=df)\n",
    "box_plot.set(title=\"Score Differential Post-Dosage Between Drugs\", xlabel=\"Drug\", ylabel=\"Score Differential\")\n"
   ]
  },
  {
   "cell_type": "markdown",
   "metadata": {},
   "source": [
    "### 4.1.A Statistical Significance\n",
    "<br> One-way ANOVA (Analysis of Variance) to find if there is statistical significance for memory recall scores between drugs"
   ]
  },
  {
   "cell_type": "code",
   "execution_count": 11,
   "metadata": {},
   "outputs": [
    {
     "data": {
      "text/html": [
       "<div>\n",
       "<style scoped>\n",
       "    .dataframe tbody tr th:only-of-type {\n",
       "        vertical-align: middle;\n",
       "    }\n",
       "\n",
       "    .dataframe tbody tr th {\n",
       "        vertical-align: top;\n",
       "    }\n",
       "\n",
       "    .dataframe thead tr th {\n",
       "        text-align: left;\n",
       "    }\n",
       "\n",
       "    .dataframe thead tr:last-of-type th {\n",
       "        text-align: right;\n",
       "    }\n",
       "</style>\n",
       "<table border=\"1\" class=\"dataframe\">\n",
       "  <thead>\n",
       "    <tr>\n",
       "      <th></th>\n",
       "      <th colspan=\"8\" halign=\"left\">Score_Diff</th>\n",
       "    </tr>\n",
       "    <tr>\n",
       "      <th></th>\n",
       "      <th>count</th>\n",
       "      <th>mean</th>\n",
       "      <th>std</th>\n",
       "      <th>min</th>\n",
       "      <th>25%</th>\n",
       "      <th>50%</th>\n",
       "      <th>75%</th>\n",
       "      <th>max</th>\n",
       "    </tr>\n",
       "    <tr>\n",
       "      <th>Drug</th>\n",
       "      <th></th>\n",
       "      <th></th>\n",
       "      <th></th>\n",
       "      <th></th>\n",
       "      <th></th>\n",
       "      <th></th>\n",
       "      <th></th>\n",
       "      <th></th>\n",
       "    </tr>\n",
       "  </thead>\n",
       "  <tbody>\n",
       "    <tr>\n",
       "      <th>Alprazolam</th>\n",
       "      <td>67.0</td>\n",
       "      <td>9.470149</td>\n",
       "      <td>13.253930</td>\n",
       "      <td>-16.3</td>\n",
       "      <td>-0.75</td>\n",
       "      <td>7.9</td>\n",
       "      <td>19.25</td>\n",
       "      <td>49.0</td>\n",
       "    </tr>\n",
       "    <tr>\n",
       "      <th>Placebo</th>\n",
       "      <td>66.0</td>\n",
       "      <td>-0.171212</td>\n",
       "      <td>7.499923</td>\n",
       "      <td>-40.4</td>\n",
       "      <td>-2.80</td>\n",
       "      <td>0.3</td>\n",
       "      <td>3.40</td>\n",
       "      <td>16.0</td>\n",
       "    </tr>\n",
       "    <tr>\n",
       "      <th>Triazolam</th>\n",
       "      <td>65.0</td>\n",
       "      <td>-0.587692</td>\n",
       "      <td>7.104521</td>\n",
       "      <td>-22.2</td>\n",
       "      <td>-4.20</td>\n",
       "      <td>0.2</td>\n",
       "      <td>4.00</td>\n",
       "      <td>24.1</td>\n",
       "    </tr>\n",
       "  </tbody>\n",
       "</table>\n",
       "</div>"
      ],
      "text/plain": [
       "           Score_Diff                                                   \n",
       "                count      mean        std   min   25%  50%    75%   max\n",
       "Drug                                                                    \n",
       "Alprazolam       67.0  9.470149  13.253930 -16.3 -0.75  7.9  19.25  49.0\n",
       "Placebo          66.0 -0.171212   7.499923 -40.4 -2.80  0.3   3.40  16.0\n",
       "Triazolam        65.0 -0.587692   7.104521 -22.2 -4.20  0.2   4.00  24.1"
      ]
     },
     "execution_count": 11,
     "metadata": {},
     "output_type": "execute_result"
    }
   ],
   "source": [
    "Drug_diff = df[['Drug', 'Score_Diff']].groupby(['Drug'])\n",
    "Drug_diff.describe()"
   ]
  },
  {
   "cell_type": "code",
   "execution_count": 13,
   "metadata": {},
   "outputs": [
    {
     "name": "stdout",
     "output_type": "stream",
     "text": [
      "ANOVA results: F= 22.711288522955336 , P = 1.359214288302846e-09\n"
     ]
    }
   ],
   "source": [
    "# one-way ANOVA (Analysis of Variance) to find significance\n",
    "df_ANOVA = df[['Drug', 'Score_Diff']].groupby(['Drug'])\n",
    "f_val, p_val = stats.f_oneway(df_ANOVA.get_group('Alprazolam')['Score_Diff'], df_ANOVA.get_group('Placebo')['Score_Diff'], df_ANOVA.get_group('Triazolam')['Score_Diff'])\n",
    "\n",
    "print(\"ANOVA results: F=\", f_val, \", P =\", p_val)"
   ]
  },
  {
   "cell_type": "code",
   "execution_count": 14,
   "metadata": {},
   "outputs": [
    {
     "name": "stdout",
     "output_type": "stream",
     "text": [
      "ANOVA results: F= 26.54851728024965 , P = 9.224444877250116e-07\n"
     ]
    }
   ],
   "source": [
    "f_val, p_val = stats.f_oneway(df_ANOVA.get_group('Alprazolam')['Score_Diff'], df_ANOVA.get_group('Placebo')['Score_Diff'])\n",
    "\n",
    "print(\"ANOVA results: F=\", f_val, \", P =\", p_val)"
   ]
  },
  {
   "cell_type": "code",
   "execution_count": 16,
   "metadata": {},
   "outputs": [
    {
     "name": "stdout",
     "output_type": "stream",
     "text": [
      "ANOVA results: F= 29.267894923292218 , P = 2.9269704991684483e-07\n"
     ]
    }
   ],
   "source": [
    "f_val, p_val = stats.f_oneway(df_ANOVA.get_group('Alprazolam')['Score_Diff'],df_ANOVA.get_group('Triazolam')['Score_Diff'])\n",
    "\n",
    "print(\"ANOVA results: F=\", f_val, \", P =\", p_val)"
   ]
  },
  {
   "cell_type": "code",
   "execution_count": 15,
   "metadata": {},
   "outputs": [
    {
     "name": "stdout",
     "output_type": "stream",
     "text": [
      "ANOVA results: F= 0.1064055399885205 , P = 0.7448026760869265\n"
     ]
    }
   ],
   "source": [
    "f_val, p_val = stats.f_oneway(df_ANOVA.get_group('Placebo')['Score_Diff'], df_ANOVA.get_group('Triazolam')['Score_Diff'])\n",
    "\n",
    "print(\"ANOVA results: F=\", f_val, \", P =\", p_val)"
   ]
  },
  {
   "cell_type": "markdown",
   "metadata": {},
   "source": [
    "### 4.1.B Statistical Significance Results\n",
    "<br> A. Significant difference among all drugs.\n",
    "<br> B. Alprazolam significantly higher difference than both the Placebo and Triazolam\n",
    "<br> C. No significant difference between Placebo and Triazolam"
   ]
  },
  {
   "cell_type": "markdown",
   "metadata": {},
   "source": [
    "### 4.2 Difference by Drug and Dosage Visual"
   ]
  },
  {
   "cell_type": "code",
   "execution_count": 27,
   "metadata": {},
   "outputs": [
    {
     "data": {
      "text/plain": [
       "[Text(0.5, 1.0, 'Score Differential Post-Dosage Between Dosage by Drug'),\n",
       " Text(0.5, 0, 'Dosage Level'),\n",
       " Text(0, 0.5, 'Score Differential')]"
      ]
     },
     "execution_count": 27,
     "metadata": {},
     "output_type": "execute_result"
    },
    {
     "data": {
      "image/png": "[encoded data removed]",
      "text/plain": [
       "<Figure size 432x288 with 1 Axes>"
      ]
     },
     "metadata": {
      "needs_background": "light"
     },
     "output_type": "display_data"
    }
   ],
   "source": [
    "#evaluate difference by dosage and drug\n",
    "box_plot = sns.boxplot(x=\"Dosage\", y=\"Score_Diff\", hue='Drug', data=df)\n",
    "box_plot.set(title=\"Score Differential Post-Dosage Between Dosage by Drug\", xlabel=\"Dosage Level\", ylabel=\"Score Differential\")\n"
   ]
  },
  {
   "cell_type": "code",
   "execution_count": 79,
   "metadata": {},
   "outputs": [
    {
     "data": {
      "text/html": [
       "<div>\n",
       "<style scoped>\n",
       "    .dataframe tbody tr th:only-of-type {\n",
       "        vertical-align: middle;\n",
       "    }\n",
       "\n",
       "    .dataframe tbody tr th {\n",
       "        vertical-align: top;\n",
       "    }\n",
       "\n",
       "    .dataframe thead tr th {\n",
       "        text-align: left;\n",
       "    }\n",
       "\n",
       "    .dataframe thead tr:last-of-type th {\n",
       "        text-align: right;\n",
       "    }\n",
       "</style>\n",
       "<table border=\"1\" class=\"dataframe\">\n",
       "  <thead>\n",
       "    <tr>\n",
       "      <th></th>\n",
       "      <th></th>\n",
       "      <th colspan=\"8\" halign=\"left\">Score_Diff</th>\n",
       "    </tr>\n",
       "    <tr>\n",
       "      <th></th>\n",
       "      <th></th>\n",
       "      <th>count</th>\n",
       "      <th>mean</th>\n",
       "      <th>std</th>\n",
       "      <th>min</th>\n",
       "      <th>25%</th>\n",
       "      <th>50%</th>\n",
       "      <th>75%</th>\n",
       "      <th>max</th>\n",
       "    </tr>\n",
       "    <tr>\n",
       "      <th>Drug</th>\n",
       "      <th>Dosage</th>\n",
       "      <th></th>\n",
       "      <th></th>\n",
       "      <th></th>\n",
       "      <th></th>\n",
       "      <th></th>\n",
       "      <th></th>\n",
       "      <th></th>\n",
       "      <th></th>\n",
       "    </tr>\n",
       "  </thead>\n",
       "  <tbody>\n",
       "    <tr>\n",
       "      <th rowspan=\"3\" valign=\"top\">Alprazolam</th>\n",
       "      <th>high</th>\n",
       "      <td>22.0</td>\n",
       "      <td>22.640909</td>\n",
       "      <td>10.404837</td>\n",
       "      <td>4.6</td>\n",
       "      <td>18.500</td>\n",
       "      <td>20.50</td>\n",
       "      <td>25.825</td>\n",
       "      <td>49.0</td>\n",
       "    </tr>\n",
       "    <tr>\n",
       "      <th>low</th>\n",
       "      <td>23.0</td>\n",
       "      <td>0.304348</td>\n",
       "      <td>8.277378</td>\n",
       "      <td>-11.2</td>\n",
       "      <td>-5.600</td>\n",
       "      <td>-1.30</td>\n",
       "      <td>4.700</td>\n",
       "      <td>21.1</td>\n",
       "    </tr>\n",
       "    <tr>\n",
       "      <th>medium</th>\n",
       "      <td>22.0</td>\n",
       "      <td>5.881818</td>\n",
       "      <td>9.210069</td>\n",
       "      <td>-16.3</td>\n",
       "      <td>0.425</td>\n",
       "      <td>5.30</td>\n",
       "      <td>13.325</td>\n",
       "      <td>22.2</td>\n",
       "    </tr>\n",
       "    <tr>\n",
       "      <th rowspan=\"3\" valign=\"top\">Placebo</th>\n",
       "      <th>high</th>\n",
       "      <td>22.0</td>\n",
       "      <td>-2.145455</td>\n",
       "      <td>6.059210</td>\n",
       "      <td>-16.0</td>\n",
       "      <td>-5.675</td>\n",
       "      <td>-0.50</td>\n",
       "      <td>2.150</td>\n",
       "      <td>7.3</td>\n",
       "    </tr>\n",
       "    <tr>\n",
       "      <th>low</th>\n",
       "      <td>22.0</td>\n",
       "      <td>2.386364</td>\n",
       "      <td>5.257312</td>\n",
       "      <td>-4.8</td>\n",
       "      <td>-0.850</td>\n",
       "      <td>1.85</td>\n",
       "      <td>4.600</td>\n",
       "      <td>16.0</td>\n",
       "    </tr>\n",
       "    <tr>\n",
       "      <th>medium</th>\n",
       "      <td>22.0</td>\n",
       "      <td>-0.754545</td>\n",
       "      <td>9.922592</td>\n",
       "      <td>-40.4</td>\n",
       "      <td>-2.575</td>\n",
       "      <td>0.05</td>\n",
       "      <td>4.125</td>\n",
       "      <td>10.6</td>\n",
       "    </tr>\n",
       "    <tr>\n",
       "      <th rowspan=\"3\" valign=\"top\">Triazolam</th>\n",
       "      <th>high</th>\n",
       "      <td>21.0</td>\n",
       "      <td>-1.723810</td>\n",
       "      <td>8.767662</td>\n",
       "      <td>-22.2</td>\n",
       "      <td>-4.500</td>\n",
       "      <td>0.20</td>\n",
       "      <td>4.500</td>\n",
       "      <td>8.6</td>\n",
       "    </tr>\n",
       "    <tr>\n",
       "      <th>low</th>\n",
       "      <td>22.0</td>\n",
       "      <td>-1.240909</td>\n",
       "      <td>5.530148</td>\n",
       "      <td>-9.8</td>\n",
       "      <td>-5.600</td>\n",
       "      <td>0.00</td>\n",
       "      <td>1.950</td>\n",
       "      <td>10.6</td>\n",
       "    </tr>\n",
       "    <tr>\n",
       "      <th>medium</th>\n",
       "      <td>22.0</td>\n",
       "      <td>1.150000</td>\n",
       "      <td>6.717975</td>\n",
       "      <td>-8.2</td>\n",
       "      <td>-3.400</td>\n",
       "      <td>0.35</td>\n",
       "      <td>4.975</td>\n",
       "      <td>24.1</td>\n",
       "    </tr>\n",
       "  </tbody>\n",
       "</table>\n",
       "</div>"
      ],
      "text/plain": [
       "                  Score_Diff                                             \\\n",
       "                       count       mean        std   min     25%    50%   \n",
       "Drug       Dosage                                                         \n",
       "Alprazolam high         22.0  22.640909  10.404837   4.6  18.500  20.50   \n",
       "           low          23.0   0.304348   8.277378 -11.2  -5.600  -1.30   \n",
       "           medium       22.0   5.881818   9.210069 -16.3   0.425   5.30   \n",
       "Placebo    high         22.0  -2.145455   6.059210 -16.0  -5.675  -0.50   \n",
       "           low          22.0   2.386364   5.257312  -4.8  -0.850   1.85   \n",
       "           medium       22.0  -0.754545   9.922592 -40.4  -2.575   0.05   \n",
       "Triazolam  high         21.0  -1.723810   8.767662 -22.2  -4.500   0.20   \n",
       "           low          22.0  -1.240909   5.530148  -9.8  -5.600   0.00   \n",
       "           medium       22.0   1.150000   6.717975  -8.2  -3.400   0.35   \n",
       "\n",
       "                                 \n",
       "                      75%   max  \n",
       "Drug       Dosage                \n",
       "Alprazolam high    25.825  49.0  \n",
       "           low      4.700  21.1  \n",
       "           medium  13.325  22.2  \n",
       "Placebo    high     2.150   7.3  \n",
       "           low      4.600  16.0  \n",
       "           medium   4.125  10.6  \n",
       "Triazolam  high     4.500   8.6  \n",
       "           low      1.950  10.6  \n",
       "           medium   4.975  24.1  "
      ]
     },
     "execution_count": 79,
     "metadata": {},
     "output_type": "execute_result"
    }
   ],
   "source": [
    "drug_dose_diff_describe = df[['Drug', 'Dosage', 'Score_Diff']].groupby(['Drug', 'Dosage'])\n",
    "drug_dose_diff_describe.describe()"
   ]
  },
  {
   "cell_type": "markdown",
   "metadata": {},
   "source": [
    "Observations: High dose of drug A has significantly higher difference of test scores. Medium dose of drug A has a median higher than the upper quartile of the other drugs with medium dosage."
   ]
  },
  {
   "cell_type": "markdown",
   "metadata": {},
   "source": [
    "### 4.2.A Statistical Significance for Score Differential Between the Dosage and Drug"
   ]
  },
  {
   "cell_type": "code",
   "execution_count": 69,
   "metadata": {},
   "outputs": [],
   "source": [
    "drug_dose_diff = df[['Drug', 'Dosage', 'Score_Diff']].groupby(['Drug', 'Dosage'],as_index=False).mean()"
   ]
  },
  {
   "cell_type": "code",
   "execution_count": 70,
   "metadata": {},
   "outputs": [
    {
     "data": {
      "text/html": [
       "<div>\n",
       "<style scoped>\n",
       "    .dataframe tbody tr th:only-of-type {\n",
       "        vertical-align: middle;\n",
       "    }\n",
       "\n",
       "    .dataframe tbody tr th {\n",
       "        vertical-align: top;\n",
       "    }\n",
       "\n",
       "    .dataframe thead tr th {\n",
       "        text-align: left;\n",
       "    }\n",
       "\n",
       "    .dataframe thead tr:last-of-type th {\n",
       "        text-align: right;\n",
       "    }\n",
       "</style>\n",
       "<table border=\"1\" class=\"dataframe\">\n",
       "  <thead>\n",
       "    <tr>\n",
       "      <th></th>\n",
       "      <th colspan=\"3\" halign=\"left\">Score_Diff</th>\n",
       "    </tr>\n",
       "    <tr>\n",
       "      <th>Dosage</th>\n",
       "      <th>high</th>\n",
       "      <th>low</th>\n",
       "      <th>medium</th>\n",
       "    </tr>\n",
       "    <tr>\n",
       "      <th>Drug</th>\n",
       "      <th></th>\n",
       "      <th></th>\n",
       "      <th></th>\n",
       "    </tr>\n",
       "  </thead>\n",
       "  <tbody>\n",
       "    <tr>\n",
       "      <th>Alprazolam</th>\n",
       "      <td>22.640909</td>\n",
       "      <td>0.304348</td>\n",
       "      <td>5.881818</td>\n",
       "    </tr>\n",
       "    <tr>\n",
       "      <th>Placebo</th>\n",
       "      <td>-2.145455</td>\n",
       "      <td>2.386364</td>\n",
       "      <td>-0.754545</td>\n",
       "    </tr>\n",
       "    <tr>\n",
       "      <th>Triazolam</th>\n",
       "      <td>-1.723810</td>\n",
       "      <td>-1.240909</td>\n",
       "      <td>1.150000</td>\n",
       "    </tr>\n",
       "  </tbody>\n",
       "</table>\n",
       "</div>"
      ],
      "text/plain": [
       "           Score_Diff                    \n",
       "Dosage           high       low    medium\n",
       "Drug                                     \n",
       "Alprazolam  22.640909  0.304348  5.881818\n",
       "Placebo     -2.145455  2.386364 -0.754545\n",
       "Triazolam   -1.723810 -1.240909  1.150000"
      ]
     },
     "execution_count": 70,
     "metadata": {},
     "output_type": "execute_result"
    }
   ],
   "source": [
    "ddd_pivot = drug_dose_diff.pivot(index='Drug', columns='Dosage')\n",
    "ddd_pivot"
   ]
  },
  {
   "cell_type": "code",
   "execution_count": null,
   "metadata": {},
   "outputs": [],
   "source": [
    "T = df[['Drug', 'Dosage', 'Score_Diff']].groupby(['Drug','Dosage']) #Create frame for T-test\n",
    "T.head()"
   ]
  },
  {
   "cell_type": "code",
   "execution_count": 26,
   "metadata": {},
   "outputs": [
    {
     "data": {
      "text/plain": [
       "Ttest_indResult(statistic=5.65700300191181, pvalue=1.2353336426622446e-06)"
      ]
     },
     "execution_count": 26,
     "metadata": {},
     "output_type": "execute_result"
    }
   ],
   "source": [
    "from scipy import stats as st\n",
    "t1 = T.get_group(('Alprazolam', 'high'))['Score_Diff']\n",
    "t2 = T.get_group(('Alprazolam', 'medium'))['Score_Diff']\n",
    "st.ttest_ind(a=t1, b=t2, equal_var=True) #T-test for high dosage Aplrazolam and medium dosage Alprazolam"
   ]
  },
  {
   "cell_type": "code",
   "execution_count": 44,
   "metadata": {},
   "outputs": [
    {
     "data": {
      "text/plain": [
       "Ttest_indResult(statistic=2.1386063924491463, pvalue=0.03818942196495425)"
      ]
     },
     "execution_count": 44,
     "metadata": {},
     "output_type": "execute_result"
    }
   ],
   "source": [
    "t3 = T.get_group(('Alprazolam', 'low'))['Score_Diff']\n",
    "st.ttest_ind(a=t2, b=t3, equal_var=True) #T-test for medium dosage Alprazolam and low dosage Alprazolam"
   ]
  },
  {
   "cell_type": "code",
   "execution_count": 45,
   "metadata": {},
   "outputs": [
    {
     "data": {
      "text/plain": [
       "Ttest_indResult(statistic=1.5459907484937112, pvalue=0.12960938359737695)"
      ]
     },
     "execution_count": 45,
     "metadata": {},
     "output_type": "execute_result"
    }
   ],
   "source": [
    "t4 = T.get_group(('Placebo', 'low'))['Score_Diff']\n",
    "st.ttest_ind(a=t2, b=t4, equal_var=True)"
   ]
  },
  {
   "cell_type": "code",
   "execution_count": 46,
   "metadata": {},
   "outputs": [
    {
     "data": {
      "text/plain": [
       "Ttest_indResult(statistic=1.9468849515943878, pvalue=0.05825652781996579)"
      ]
     },
     "execution_count": 46,
     "metadata": {},
     "output_type": "execute_result"
    }
   ],
   "source": [
    "t5 = T.get_group(('Triazolam', 'medium'))['Score_Diff']\n",
    "st.ttest_ind(a=t2, b=t5, equal_var=True)"
   ]
  },
  {
   "cell_type": "code",
   "execution_count": 81,
   "metadata": {},
   "outputs": [
    {
     "data": {
      "text/plain": [
       "Ttest_indResult(statistic=1.8745186805921408, pvalue=0.06799566227694523)"
      ]
     },
     "execution_count": 81,
     "metadata": {},
     "output_type": "execute_result"
    }
   ],
   "source": [
    "t11 = T.get_group(('Placebo', 'low'))['Score_Diff']\n",
    "t12 = T.get_group(('Triazolam', 'high'))['Score_Diff']\n",
    "st.ttest_ind(a=t11, b=t12, equal_var=True)"
   ]
  },
  {
   "cell_type": "markdown",
   "metadata": {},
   "source": [
    "### 4.2.B Statistical Significance Results\n",
    "\n",
    "A. High dosage Alprazolam significantly higher than medium dosage Alprazolam\n",
    "<br> B. Medium dosage Alprazolam significantly higher than low Dosage Alprazolam and thus all other levels of each drug except the low dose Placebo and medium dose Triazolam\n",
    "<br> C. Medium dosage Alprazolam only significantly higher than low dosage Placebo with pvalue<.15 and medium dose Triazolam with pvalue=.058"
   ]
  },
  {
   "cell_type": "markdown",
   "metadata": {},
   "source": [
    "### 4.3 Difference by Drug and Dosage between Happy and Sad Prime"
   ]
  },
  {
   "cell_type": "code",
   "execution_count": 34,
   "metadata": {},
   "outputs": [
    {
     "data": {
      "text/plain": [
       "<Figure size 720x504 with 0 Axes>"
      ]
     },
     "metadata": {},
     "output_type": "display_data"
    },
    {
     "data": {
      "image/png": "[encoded data removed]",
      "text/plain": [
       "<Figure size 720x504 with 2 Axes>"
      ]
     },
     "metadata": {
      "needs_background": "light"
     },
     "output_type": "display_data"
    }
   ],
   "source": [
    "# plot with different doses & happy and sad group\n",
    "fig = plt.figure(figsize=(10,7))\n",
    "box_plot = sns.catplot(x='Drug', y='Diff', hue='Dosage', col='Happy_Sad_group', data=df, kind=\"box\")\n",
    "box_plot.fig.suptitle(\"Score Differential between Dosage Level, Happy/Sad Prime & Drug Type\")\n",
    "box_plot.fig.set_size_inches(10,7)"
   ]
  },
  {
   "cell_type": "markdown",
   "metadata": {},
   "source": [
    "Observation: Similar to above, however there is no noticable difference in for the medium dosage in the happy group."
   ]
  },
  {
   "cell_type": "markdown",
   "metadata": {},
   "source": [
    "### 4.3.A Statistical Significance"
   ]
  },
  {
   "cell_type": "code",
   "execution_count": null,
   "metadata": {},
   "outputs": [],
   "source": [
    "H_S_D = df[['Drug', 'Dosage', 'Happy_Sad_group', 'Score_Diff']].groupby(['Drug','Dosage', 'Happy_Sad_group'],as_index=False).mean()\n",
    "H_S_D"
   ]
  },
  {
   "cell_type": "code",
   "execution_count": 77,
   "metadata": {},
   "outputs": [
    {
     "data": {
      "text/html": [
       "<div>\n",
       "<style scoped>\n",
       "    .dataframe tbody tr th:only-of-type {\n",
       "        vertical-align: middle;\n",
       "    }\n",
       "\n",
       "    .dataframe tbody tr th {\n",
       "        vertical-align: top;\n",
       "    }\n",
       "\n",
       "    .dataframe thead tr th {\n",
       "        text-align: left;\n",
       "    }\n",
       "\n",
       "    .dataframe thead tr:last-of-type th {\n",
       "        text-align: right;\n",
       "    }\n",
       "</style>\n",
       "<table border=\"1\" class=\"dataframe\">\n",
       "  <thead>\n",
       "    <tr>\n",
       "      <th></th>\n",
       "      <th></th>\n",
       "      <th colspan=\"2\" halign=\"left\">Score_Diff</th>\n",
       "    </tr>\n",
       "    <tr>\n",
       "      <th></th>\n",
       "      <th>Happy_Sad_group</th>\n",
       "      <th>H</th>\n",
       "      <th>S</th>\n",
       "    </tr>\n",
       "    <tr>\n",
       "      <th>Drug</th>\n",
       "      <th>Dosage</th>\n",
       "      <th></th>\n",
       "      <th></th>\n",
       "    </tr>\n",
       "  </thead>\n",
       "  <tbody>\n",
       "    <tr>\n",
       "      <th rowspan=\"3\" valign=\"top\">Alprazolam</th>\n",
       "      <th>high</th>\n",
       "      <td>23.581818</td>\n",
       "      <td>21.700000</td>\n",
       "    </tr>\n",
       "    <tr>\n",
       "      <th>low</th>\n",
       "      <td>-0.609091</td>\n",
       "      <td>1.141667</td>\n",
       "    </tr>\n",
       "    <tr>\n",
       "      <th>medium</th>\n",
       "      <td>2.118182</td>\n",
       "      <td>9.645455</td>\n",
       "    </tr>\n",
       "    <tr>\n",
       "      <th rowspan=\"3\" valign=\"top\">Placebo</th>\n",
       "      <th>high</th>\n",
       "      <td>-1.700000</td>\n",
       "      <td>-2.590909</td>\n",
       "    </tr>\n",
       "    <tr>\n",
       "      <th>low</th>\n",
       "      <td>0.709091</td>\n",
       "      <td>4.063636</td>\n",
       "    </tr>\n",
       "    <tr>\n",
       "      <th>medium</th>\n",
       "      <td>1.054545</td>\n",
       "      <td>-2.563636</td>\n",
       "    </tr>\n",
       "    <tr>\n",
       "      <th rowspan=\"3\" valign=\"top\">Triazolam</th>\n",
       "      <th>high</th>\n",
       "      <td>-3.427273</td>\n",
       "      <td>0.150000</td>\n",
       "    </tr>\n",
       "    <tr>\n",
       "      <th>low</th>\n",
       "      <td>1.290909</td>\n",
       "      <td>-3.772727</td>\n",
       "    </tr>\n",
       "    <tr>\n",
       "      <th>medium</th>\n",
       "      <td>1.581818</td>\n",
       "      <td>0.718182</td>\n",
       "    </tr>\n",
       "  </tbody>\n",
       "</table>\n",
       "</div>"
      ],
      "text/plain": [
       "                  Score_Diff           \n",
       "Happy_Sad_group            H          S\n",
       "Drug       Dosage                      \n",
       "Alprazolam high    23.581818  21.700000\n",
       "           low     -0.609091   1.141667\n",
       "           medium   2.118182   9.645455\n",
       "Placebo    high    -1.700000  -2.590909\n",
       "           low      0.709091   4.063636\n",
       "           medium   1.054545  -2.563636\n",
       "Triazolam  high    -3.427273   0.150000\n",
       "           low      1.290909  -3.772727\n",
       "           medium   1.581818   0.718182"
      ]
     },
     "execution_count": 77,
     "metadata": {},
     "output_type": "execute_result"
    }
   ],
   "source": [
    "T2_pivot = H_S_D.pivot(index=['Drug', 'Dosage'], columns='Happy_Sad_group')\n",
    "T2_pivot"
   ]
  },
  {
   "cell_type": "code",
   "execution_count": null,
   "metadata": {},
   "outputs": [],
   "source": [
    "# Simplify with score differential \n",
    "T2 = df[['Drug', 'Dosage', 'Happy_Sad_group', 'Score_Diff']].groupby(['Drug','Dosage', 'Happy_Sad_group']) #Create frame for T-test\n",
    "T2.head()"
   ]
  },
  {
   "cell_type": "code",
   "execution_count": 74,
   "metadata": {},
   "outputs": [
    {
     "data": {
      "text/plain": [
       "Ttest_indResult(statistic=1.5170485915130851, pvalue=0.14490260194679314)"
      ]
     },
     "execution_count": 74,
     "metadata": {},
     "output_type": "execute_result"
    }
   ],
   "source": [
    "t7 = T2.get_group((('Alprazolam', 'medium', 'S')))['Score_Diff']\n",
    "t8 = T2.get_group((('Placebo', 'low', 'S')))['Score_Diff']\n",
    "st.ttest_ind(a=t7, b=t8, equal_var=True)"
   ]
  },
  {
   "cell_type": "code",
   "execution_count": 78,
   "metadata": {},
   "outputs": [
    {
     "data": {
      "text/plain": [
       "Ttest_indResult(statistic=2.059297583401018, pvalue=0.05272421404720512)"
      ]
     },
     "execution_count": 78,
     "metadata": {},
     "output_type": "execute_result"
    }
   ],
   "source": [
    "t9 = T2.get_group(('Alprazolam', 'medium', 'H'))['Score_Diff']\n",
    "st.ttest_ind(a=t7, b=t9, equal_var=True)"
   ]
  },
  {
   "cell_type": "markdown",
   "metadata": {},
   "source": [
    "### 4.3.B Statistical Significance results\n",
    "\n",
    "A. Medium dosage Alprazoloam with Sad prime only higher than low Placebo Sad prime with pvalue<0.15\n",
    "<br>B. Medium Dosage Alprazolam with Sad prime higher than that with Happy prime with pvalue=0.053 thus it is significantly higher than all of the rest besides low Placebo Sad prime"
   ]
  },
  {
   "cell_type": "markdown",
   "metadata": {},
   "source": [
    "## 5. Search for Major Group Discrepencies\n",
    "\n",
    "Now to see if there are any major age discrepencies between the groups."
   ]
  },
  {
   "cell_type": "code",
   "execution_count": 36,
   "metadata": {},
   "outputs": [],
   "source": [
    "df_age = df[['age', 'Dosage', 'Drug', 'Happy_Sad_group']]"
   ]
  },
  {
   "cell_type": "code",
   "execution_count": null,
   "metadata": {},
   "outputs": [],
   "source": [
    "df_age = df_age.groupby(['Dosage', 'Drug', 'Happy_Sad_group'],as_index=False).mean()\n",
    "df_age"
   ]
  },
  {
   "cell_type": "code",
   "execution_count": 38,
   "metadata": {},
   "outputs": [
    {
     "data": {
      "text/html": [
       "<div>\n",
       "<style scoped>\n",
       "    .dataframe tbody tr th:only-of-type {\n",
       "        vertical-align: middle;\n",
       "    }\n",
       "\n",
       "    .dataframe tbody tr th {\n",
       "        vertical-align: top;\n",
       "    }\n",
       "\n",
       "    .dataframe thead tr th {\n",
       "        text-align: left;\n",
       "    }\n",
       "\n",
       "    .dataframe thead tr:last-of-type th {\n",
       "        text-align: right;\n",
       "    }\n",
       "</style>\n",
       "<table border=\"1\" class=\"dataframe\">\n",
       "  <thead>\n",
       "    <tr>\n",
       "      <th></th>\n",
       "      <th></th>\n",
       "      <th colspan=\"2\" halign=\"left\">age</th>\n",
       "    </tr>\n",
       "    <tr>\n",
       "      <th></th>\n",
       "      <th>Happy_Sad_group</th>\n",
       "      <th>H</th>\n",
       "      <th>S</th>\n",
       "    </tr>\n",
       "    <tr>\n",
       "      <th>Dosage</th>\n",
       "      <th>Drug</th>\n",
       "      <th></th>\n",
       "      <th></th>\n",
       "    </tr>\n",
       "  </thead>\n",
       "  <tbody>\n",
       "    <tr>\n",
       "      <th rowspan=\"3\" valign=\"top\">high</th>\n",
       "      <th>Alprazolam</th>\n",
       "      <td>41.363636</td>\n",
       "      <td>40.818182</td>\n",
       "    </tr>\n",
       "    <tr>\n",
       "      <th>Placebo</th>\n",
       "      <td>39.636364</td>\n",
       "      <td>33.181818</td>\n",
       "    </tr>\n",
       "    <tr>\n",
       "      <th>Triazolam</th>\n",
       "      <td>39.727273</td>\n",
       "      <td>44.800000</td>\n",
       "    </tr>\n",
       "    <tr>\n",
       "      <th rowspan=\"3\" valign=\"top\">low</th>\n",
       "      <th>Alprazolam</th>\n",
       "      <td>36.000000</td>\n",
       "      <td>43.833333</td>\n",
       "    </tr>\n",
       "    <tr>\n",
       "      <th>Placebo</th>\n",
       "      <td>35.636364</td>\n",
       "      <td>41.636364</td>\n",
       "    </tr>\n",
       "    <tr>\n",
       "      <th>Triazolam</th>\n",
       "      <td>36.909091</td>\n",
       "      <td>38.454545</td>\n",
       "    </tr>\n",
       "    <tr>\n",
       "      <th rowspan=\"3\" valign=\"top\">medium</th>\n",
       "      <th>Alprazolam</th>\n",
       "      <td>36.181818</td>\n",
       "      <td>42.090909</td>\n",
       "    </tr>\n",
       "    <tr>\n",
       "      <th>Placebo</th>\n",
       "      <td>38.181818</td>\n",
       "      <td>36.272727</td>\n",
       "    </tr>\n",
       "    <tr>\n",
       "      <th>Triazolam</th>\n",
       "      <td>48.272727</td>\n",
       "      <td>38.636364</td>\n",
       "    </tr>\n",
       "  </tbody>\n",
       "</table>\n",
       "</div>"
      ],
      "text/plain": [
       "                         age           \n",
       "Happy_Sad_group            H          S\n",
       "Dosage Drug                            \n",
       "high   Alprazolam  41.363636  40.818182\n",
       "       Placebo     39.636364  33.181818\n",
       "       Triazolam   39.727273  44.800000\n",
       "low    Alprazolam  36.000000  43.833333\n",
       "       Placebo     35.636364  41.636364\n",
       "       Triazolam   36.909091  38.454545\n",
       "medium Alprazolam  36.181818  42.090909\n",
       "       Placebo     38.181818  36.272727\n",
       "       Triazolam   48.272727  38.636364"
      ]
     },
     "execution_count": 38,
     "metadata": {},
     "output_type": "execute_result"
    }
   ],
   "source": [
    "df_age_pivot = df_age.pivot(index=['Dosage','Drug'], columns='Happy_Sad_group')\n",
    "df_age_pivot"
   ]
  },
  {
   "cell_type": "code",
   "execution_count": 39,
   "metadata": {},
   "outputs": [
    {
     "data": {
      "text/plain": [
       "<seaborn.axisgrid.FacetGrid at 0x161b66d0e20>"
      ]
     },
     "execution_count": 39,
     "metadata": {},
     "output_type": "execute_result"
    },
    {
     "data": {
      "text/plain": [
       "<Figure size 720x504 with 0 Axes>"
      ]
     },
     "metadata": {},
     "output_type": "display_data"
    },
    {
     "data": {
      "image/png": "[encoded data removed]",
      "text/plain": [
       "<Figure size 797x360 with 2 Axes>"
      ]
     },
     "metadata": {
      "needs_background": "light"
     },
     "output_type": "display_data"
    }
   ],
   "source": [
    "fig = plt.figure(figsize=(10,7))\n",
    "sns.catplot(x='Drug', y='age', hue='Dosage', col='Happy_Sad_group', data=df, kind=\"box\")"
   ]
  },
  {
   "cell_type": "markdown",
   "metadata": {},
   "source": [
    "Some noticeable differences worth examining: T, Medium dose has significantly higher age than the rest, however this does not seem to matter because that group doesn't have any signifcantly variable scores from the rest. "
   ]
  },
  {
   "cell_type": "code",
   "execution_count": 36,
   "metadata": {},
   "outputs": [
    {
     "data": {
      "text/plain": [
       "<AxesSubplot:xlabel='age', ylabel='Score_Diff'>"
      ]
     },
     "execution_count": 36,
     "metadata": {},
     "output_type": "execute_result"
    },
    {
     "data": {
      "image/png": "[encoded data removed]",
      "text/plain": [
       "<Figure size 432x288 with 1 Axes>"
      ]
     },
     "metadata": {
      "needs_background": "light"
     },
     "output_type": "display_data"
    }
   ],
   "source": [
    "# does age have significant effect of the difference of scores\n",
    "sns.histplot(x='age', y='Score_Diff', data=df)"
   ]
  },
  {
   "cell_type": "markdown",
   "metadata": {},
   "source": [
    "### 5.1 Discrepency Conclusion\n",
    "\n",
    "No major discrepencies based on age of participants"
   ]
  },
  {
   "cell_type": "markdown",
   "metadata": {},
   "source": [
    "## 6. Conclusion\n",
    "\n",
    "**Main questions of interest:**\n",
    "\n",
    "How does each drug affect memory? \n",
    "<br>Those that took Alprazolam generally did better on the memory recall test after doing the drug.\n",
    "\n",
    "Does the dosage level of the drug have an effect?\n",
    "<br> Participants in the high dosage of Alprazolam group had scores improved more significantly than any other group (pvalue<0.0001). Participants in the medium dosage of Alprazolam group had scores improved more significantly than all of the other groups (pvalue<0.05) except for the Placebo group with the lowest dosage (pvalue=0.13) and the group with medium dosage of Triazolam (pvalue=0.058).\n",
    "\n",
    "Does either prime have a significant effect?\n",
    "<br> Medium Dosage Alprazolam with Sad prime higher than that with Happy prime with pvalue=0.053 thus it is significantly higher than all of the rest besides low Placebo Sad prime (pvalue<0.14)\n",
    "\n",
    "Does the age of participants make a noticable difference on the drugs' effect?\n",
    "<br> Age did not seem to be an effective factor."
   ]
  }
 ],
 "metadata": {
  "kernelspec": {
   "display_name": "Python 3.10.5 64-bit",
   "language": "python",
   "name": "python3"
  },
  "language_info": {
   "codemirror_mode": {
    "name": "ipython",
    "version": 3
   },
   "file_extension": ".py",
   "mimetype": "text/x-python",
   "name": "python",
   "nbconvert_exporter": "python",
   "pygments_lexer": "ipython3",
   "version": "3.10.5"
  },
  "orig_nbformat": 4,
  "vscode": {
   "interpreter": {
    "hash": "1a5f6803fc856058a26ceba2e99815e38abcdfc2536c6456a18f93d6464204f9"
   }
  }
 },
 "nbformat": 4,
 "nbformat_minor": 2
}
